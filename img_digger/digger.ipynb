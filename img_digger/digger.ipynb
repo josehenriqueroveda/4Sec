{
 "cells": [
  {
   "cell_type": "markdown",
   "metadata": {},
   "source": [
    "# Exif Digger\n",
    "\n",
    "EXIF, which stands for Exchangeable Image File Format, is a standard that embeds metadata within image files. This metadata includes various details about the image, such as the date and time it was taken, camera settings, location information, and even the make and model of the camera used. Essentially, EXIF data acts as a digital fingerprint for photographs, providing a wealth of information that can be important in forensic investigations."
   ]
  },
  {
   "cell_type": "code",
   "execution_count": 62,
   "metadata": {},
   "outputs": [],
   "source": [
    "import folium\n",
    "from exif import Image\n",
    "from IPython.display import HTML, display\n",
    "\n",
    "colors = {'PURPLE':'\\033[95m', 'CYAN':'\\033[96m', 'DARKCYAN':'\\033[36m', 'BLUE':'\\033[94m',\n",
    "          'GREEN':'\\033[92m', 'YELLOW':'\\033[93m', 'RED':'\\033[91m','BOLD':'\\033[1m',\n",
    "          'UNDERLINE':'\\033[4m', 'END':'\\033[0m'}"
   ]
  },
  {
   "cell_type": "code",
   "execution_count": 63,
   "metadata": {},
   "outputs": [],
   "source": [
    "img_path = \"imgs/sample1.jpg\"\n",
    "with open(img_path, \"rb\") as f:\n",
    "    img = Image(f)"
   ]
  },
  {
   "cell_type": "code",
   "execution_count": 64,
   "metadata": {},
   "outputs": [],
   "source": [
    "def get_model(img):\n",
    "    try:\n",
    "        if \"model\" in dir(img):\n",
    "            return img.model\n",
    "    except Exception as e:\n",
    "        print(e)"
   ]
  },
  {
   "cell_type": "code",
   "execution_count": 65,
   "metadata": {},
   "outputs": [],
   "source": [
    "def get_datetimes(img):\n",
    "    try:\n",
    "        if \"datetime_original\" in dir(img) and \"datetime\" in dir(img):\n",
    "            return img.datetime_original, img.datetime\n",
    "    except Exception as e:\n",
    "        print(e)"
   ]
  },
  {
   "cell_type": "code",
   "execution_count": 66,
   "metadata": {},
   "outputs": [],
   "source": [
    "def get_lat_long(img):\n",
    "    try:\n",
    "        if \"gps_latitude\" in dir(img) and \"gps_longitude\" in dir(img):\n",
    "            latitude = img.gps_latitude\n",
    "            longitude = img.gps_longitude\n",
    "            direction_lat = img.gps_latitude_ref\n",
    "            direction_long = img.gps_longitude_ref\n",
    "\n",
    "            float_lat = (\n",
    "                float(latitude[0]) + float(latitude[1]) / 60 + float(latitude[2]) / 3600\n",
    "            )\n",
    "            float_long = (\n",
    "                float(longitude[0])\n",
    "                + float(longitude[1]) / 60\n",
    "                + float(longitude[2]) / 3600\n",
    "            )\n",
    "\n",
    "            if direction_lat == \"S\":\n",
    "                float_lat = -float_lat\n",
    "            if direction_long == \"W\":\n",
    "                float_long = -float_long\n",
    "\n",
    "            return float_lat, float_long\n",
    "    except Exception as e:\n",
    "        print(e)"
   ]
  },
  {
   "cell_type": "code",
   "execution_count": 74,
   "metadata": {},
   "outputs": [],
   "source": [
    "def report(model, created, modified, lat, long, img_path):\n",
    "    try:\n",
    "        print(colors[\"BOLD\"] + \"################# Image Exif Report ################\" + colors[\"END\"])\n",
    "        print(colors[\"PURPLE\"] + \"Image taken with device: \" + colors[\"END\"] + model)\n",
    "        if (created == modified) or modified is None:\n",
    "            print(colors[\"GREEN\"] + \"No modification detected.\" + colors[\"END\"])\n",
    "            print(colors[\"YELLOW\"] + \"Created: \" + colors[\"END\"] + created)\n",
    "        else:\n",
    "            print(colors[\"RED\"] + \"Modification detected.\" + colors[\"END\"])\n",
    "            print(colors[\"YELLOW\"] + \"Created: \" + colors[\"END\"] + created)\n",
    "            print(colors[\"RED\"] + \"Modified: \" + colors[\"END\"] + modified)\n",
    "\n",
    "        if lat is not None and long is not None:\n",
    "            f = folium.Figure(width=300, height=300)\n",
    "            m = folium.Map(location=[lat, long], zoom_start=15)\n",
    "            folium.Marker([lat, long], icon=folium.Icon(color=\"red\")).add_to(m)\n",
    "            f.add_child(m)\n",
    "            return f\n",
    "        else:\n",
    "            print(colors[\"RED\"] + \"No GPS data found.\" + colors[\"END\"])\n",
    "    except Exception as e:\n",
    "        print(e)"
   ]
  },
  {
   "cell_type": "code",
   "execution_count": null,
   "metadata": {},
   "outputs": [],
   "source": [
    "if img.has_exif:\n",
    "    model = get_model(img)\n",
    "    created, modified = get_datetimes(img)\n",
    "    lat, long = get_lat_long(img)\n",
    "    m = report(model, created, modified, lat, long, img_path)\n",
    "    display(m)\n",
    "    display(HTML(f'<img src=\"{img_path}\" width=\"300\">'))"
   ]
  },
  {
   "cell_type": "markdown",
   "metadata": {},
   "source": [
    "**OUTPUT**\n",
    "\n",
    "![](imgs/output.png)"
   ]
  }
 ],
 "metadata": {
  "kernelspec": {
   "display_name": "venv",
   "language": "python",
   "name": "python3"
  },
  "language_info": {
   "codemirror_mode": {
    "name": "ipython",
    "version": 3
   },
   "file_extension": ".py",
   "mimetype": "text/x-python",
   "name": "python",
   "nbconvert_exporter": "python",
   "pygments_lexer": "ipython3",
   "version": "3.12.2"
  }
 },
 "nbformat": 4,
 "nbformat_minor": 2
}
