{
 "cells": [
  {
   "cell_type": "markdown",
   "metadata": {},
   "source": [
    "# Exif Digger\n",
    "\n",
    "EXIF, which stands for Exchangeable Image File Format, is a standard that embeds metadata within image files. This metadata includes various details about the image, such as the date and time it was taken, camera settings, location information, and even the make and model of the camera used. Essentially, EXIF data acts as a digital fingerprint for photographs, providing a wealth of information that can be important in forensic investigations."
   ]
  },
  {
   "cell_type": "code",
   "execution_count": 62,
   "metadata": {},
   "outputs": [],
   "source": [
    "import folium\n",
    "from exif import Image\n",
    "from IPython.display import HTML, display\n",
    "\n",
    "colors = {'PURPLE':'\\033[95m', 'CYAN':'\\033[96m', 'DARKCYAN':'\\033[36m', 'BLUE':'\\033[94m',\n",
    "          'GREEN':'\\033[92m', 'YELLOW':'\\033[93m', 'RED':'\\033[91m','BOLD':'\\033[1m',\n",
    "          'UNDERLINE':'\\033[4m', 'END':'\\033[0m'}"
   ]
  },
  {
   "cell_type": "code",
   "execution_count": 63,
   "metadata": {},
   "outputs": [],
   "source": [
    "img_path = \"imgs/sample1.jpg\"\n",
    "with open(img_path, \"rb\") as f:\n",
    "    img = Image(f)"
   ]
  },
  {
   "cell_type": "code",
   "execution_count": 64,
   "metadata": {},
   "outputs": [],
   "source": [
    "def get_model(img):\n",
    "    try:\n",
    "        if \"model\" in dir(img):\n",
    "            return img.model\n",
    "    except Exception as e:\n",
    "        print(e)"
   ]
  },
  {
   "cell_type": "code",
   "execution_count": 65,
   "metadata": {},
   "outputs": [],
   "source": [
    "def get_datetimes(img):\n",
    "    try:\n",
    "        if \"datetime_original\" in dir(img) and \"datetime\" in dir(img):\n",
    "            return img.datetime_original, img.datetime\n",
    "    except Exception as e:\n",
    "        print(e)"
   ]
  },
  {
   "cell_type": "code",
   "execution_count": 66,
   "metadata": {},
   "outputs": [],
   "source": [
    "def get_lat_long(img):\n",
    "    try:\n",
    "        if \"gps_latitude\" in dir(img) and \"gps_longitude\" in dir(img):\n",
    "            latitude = img.gps_latitude\n",
    "            longitude = img.gps_longitude\n",
    "            direction_lat = img.gps_latitude_ref\n",
    "            direction_long = img.gps_longitude_ref\n",
    "\n",
    "            float_lat = (\n",
    "                float(latitude[0]) + float(latitude[1]) / 60 + float(latitude[2]) / 3600\n",
    "            )\n",
    "            float_long = (\n",
    "                float(longitude[0])\n",
    "                + float(longitude[1]) / 60\n",
    "                + float(longitude[2]) / 3600\n",
    "            )\n",
    "\n",
    "            if direction_lat == \"S\":\n",
    "                float_lat = -float_lat\n",
    "            if direction_long == \"W\":\n",
    "                float_long = -float_long\n",
    "\n",
    "            return float_lat, float_long\n",
    "    except Exception as e:\n",
    "        print(e)"
   ]
  },
  {
   "cell_type": "code",
   "execution_count": 74,
   "metadata": {},
   "outputs": [],
   "source": [
    "def report(model, created, modified, lat, long, img_path):\n",
    "    try:\n",
    "        print(colors[\"BOLD\"] + \"################# Image Exif Report ################\" + colors[\"END\"])\n",
    "        print(colors[\"PURPLE\"] + \"Image taken with device: \" + colors[\"END\"] + model)\n",
    "        if (created == modified) or modified is None:\n",
    "            print(colors[\"GREEN\"] + \"No modification detected.\" + colors[\"END\"])\n",
    "            print(colors[\"YELLOW\"] + \"Created: \" + colors[\"END\"] + created)\n",
    "        else:\n",
    "            print(colors[\"RED\"] + \"Modification detected.\" + colors[\"END\"])\n",
    "            print(colors[\"YELLOW\"] + \"Created: \" + colors[\"END\"] + created)\n",
    "            print(colors[\"RED\"] + \"Modified: \" + colors[\"END\"] + modified)\n",
    "\n",
    "        if lat is not None and long is not None:\n",
    "            f = folium.Figure(width=300, height=300)\n",
    "            m = folium.Map(location=[lat, long], zoom_start=15)\n",
    "            folium.Marker([lat, long], icon=folium.Icon(color=\"red\")).add_to(m)\n",
    "            f.add_child(m)\n",
    "            return f\n",
    "        else:\n",
    "            print(colors[\"RED\"] + \"No GPS data found.\" + colors[\"END\"])\n",
    "    except Exception as e:\n",
    "        print(e)"
   ]
  },
  {
   "cell_type": "code",
   "execution_count": 75,
   "metadata": {},
   "outputs": [
    {
     "name": "stdout",
     "output_type": "stream",
     "text": [
      "\u001b[1m################# Image Exif Report ################\u001b[0m\n",
      "\u001b[95mImage taken with device: \u001b[0mCOOLPIX P6000\n",
      "\u001b[91mModification detected.\u001b[0m\n",
      "\u001b[93mCreated: \u001b[0m2008:10:22 16:28:39\n",
      "\u001b[91mModified: \u001b[0m2008:11:01 21:15:07\n"
     ]
    },
    {
     "data": {
      "text/html": [
       "<iframe srcdoc=\"&lt;!DOCTYPE html&gt;\n",
       "&lt;html&gt;\n",
       "&lt;head&gt;\n",
       "    \n",
       "    &lt;meta http-equiv=&quot;content-type&quot; content=&quot;text/html; charset=UTF-8&quot; /&gt;\n",
       "    \n",
       "        &lt;script&gt;\n",
       "            L_NO_TOUCH = false;\n",
       "            L_DISABLE_3D = false;\n",
       "        &lt;/script&gt;\n",
       "    \n",
       "    &lt;style&gt;html, body {width: 100%;height: 100%;margin: 0;padding: 0;}&lt;/style&gt;\n",
       "    &lt;style&gt;#map {position:absolute;top:0;bottom:0;right:0;left:0;}&lt;/style&gt;\n",
       "    &lt;script src=&quot;https://cdn.jsdelivr.net/npm/leaflet@1.9.3/dist/leaflet.js&quot;&gt;&lt;/script&gt;\n",
       "    &lt;script src=&quot;https://code.jquery.com/jquery-3.7.1.min.js&quot;&gt;&lt;/script&gt;\n",
       "    &lt;script src=&quot;https://cdn.jsdelivr.net/npm/bootstrap@5.2.2/dist/js/bootstrap.bundle.min.js&quot;&gt;&lt;/script&gt;\n",
       "    &lt;script src=&quot;https://cdnjs.cloudflare.com/ajax/libs/Leaflet.awesome-markers/2.0.2/leaflet.awesome-markers.js&quot;&gt;&lt;/script&gt;\n",
       "    &lt;link rel=&quot;stylesheet&quot; href=&quot;https://cdn.jsdelivr.net/npm/leaflet@1.9.3/dist/leaflet.css&quot;/&gt;\n",
       "    &lt;link rel=&quot;stylesheet&quot; href=&quot;https://cdn.jsdelivr.net/npm/bootstrap@5.2.2/dist/css/bootstrap.min.css&quot;/&gt;\n",
       "    &lt;link rel=&quot;stylesheet&quot; href=&quot;https://netdna.bootstrapcdn.com/bootstrap/3.0.0/css/bootstrap.min.css&quot;/&gt;\n",
       "    &lt;link rel=&quot;stylesheet&quot; href=&quot;https://cdn.jsdelivr.net/npm/@fortawesome/fontawesome-free@6.2.0/css/all.min.css&quot;/&gt;\n",
       "    &lt;link rel=&quot;stylesheet&quot; href=&quot;https://cdnjs.cloudflare.com/ajax/libs/Leaflet.awesome-markers/2.0.2/leaflet.awesome-markers.css&quot;/&gt;\n",
       "    &lt;link rel=&quot;stylesheet&quot; href=&quot;https://cdn.jsdelivr.net/gh/python-visualization/folium/folium/templates/leaflet.awesome.rotate.min.css&quot;/&gt;\n",
       "    \n",
       "            &lt;meta name=&quot;viewport&quot; content=&quot;width=device-width,\n",
       "                initial-scale=1.0, maximum-scale=1.0, user-scalable=no&quot; /&gt;\n",
       "            &lt;style&gt;\n",
       "                #map_edfa83ef5e0ad6321f02f606eac42224 {\n",
       "                    position: relative;\n",
       "                    width: 100.0%;\n",
       "                    height: 100.0%;\n",
       "                    left: 0.0%;\n",
       "                    top: 0.0%;\n",
       "                }\n",
       "                .leaflet-container { font-size: 1rem; }\n",
       "            &lt;/style&gt;\n",
       "        \n",
       "&lt;/head&gt;\n",
       "&lt;body&gt;\n",
       "    \n",
       "    \n",
       "            &lt;div class=&quot;folium-map&quot; id=&quot;map_edfa83ef5e0ad6321f02f606eac42224&quot; &gt;&lt;/div&gt;\n",
       "        \n",
       "&lt;/body&gt;\n",
       "&lt;script&gt;\n",
       "    \n",
       "    \n",
       "            var map_edfa83ef5e0ad6321f02f606eac42224 = L.map(\n",
       "                &quot;map_edfa83ef5e0ad6321f02f606eac42224&quot;,\n",
       "                {\n",
       "                    center: [43.46744833333334, 11.885126666663888],\n",
       "                    crs: L.CRS.EPSG3857,\n",
       "                    zoom: 15,\n",
       "                    zoomControl: true,\n",
       "                    preferCanvas: false,\n",
       "                }\n",
       "            );\n",
       "\n",
       "            \n",
       "\n",
       "        \n",
       "    \n",
       "            var tile_layer_4da0db8d23c7b3c98e85925165f7dfa7 = L.tileLayer(\n",
       "                &quot;https://tile.openstreetmap.org/{z}/{x}/{y}.png&quot;,\n",
       "                {&quot;attribution&quot;: &quot;\\u0026copy; \\u003ca href=\\&quot;https://www.openstreetmap.org/copyright\\&quot;\\u003eOpenStreetMap\\u003c/a\\u003e contributors&quot;, &quot;detectRetina&quot;: false, &quot;maxNativeZoom&quot;: 19, &quot;maxZoom&quot;: 19, &quot;minZoom&quot;: 0, &quot;noWrap&quot;: false, &quot;opacity&quot;: 1, &quot;subdomains&quot;: &quot;abc&quot;, &quot;tms&quot;: false}\n",
       "            );\n",
       "        \n",
       "    \n",
       "            tile_layer_4da0db8d23c7b3c98e85925165f7dfa7.addTo(map_edfa83ef5e0ad6321f02f606eac42224);\n",
       "        \n",
       "    \n",
       "            var marker_5fdd18a75d0349fda3ef7c824ba7d9df = L.marker(\n",
       "                [43.46744833333334, 11.885126666663888],\n",
       "                {}\n",
       "            ).addTo(map_edfa83ef5e0ad6321f02f606eac42224);\n",
       "        \n",
       "    \n",
       "            var icon_0105afa4cf7108aaeb4c26443413d274 = L.AwesomeMarkers.icon(\n",
       "                {&quot;extraClasses&quot;: &quot;fa-rotate-0&quot;, &quot;icon&quot;: &quot;info-sign&quot;, &quot;iconColor&quot;: &quot;white&quot;, &quot;markerColor&quot;: &quot;red&quot;, &quot;prefix&quot;: &quot;glyphicon&quot;}\n",
       "            );\n",
       "            marker_5fdd18a75d0349fda3ef7c824ba7d9df.setIcon(icon_0105afa4cf7108aaeb4c26443413d274);\n",
       "        \n",
       "&lt;/script&gt;\n",
       "&lt;/html&gt;\" width=\"300\" height=\"300\"style=\"border:none !important;\" \"allowfullscreen\" \"webkitallowfullscreen\" \"mozallowfullscreen\"></iframe>"
      ],
      "text/plain": [
       "<branca.element.Figure at 0x1cc23bee000>"
      ]
     },
     "metadata": {},
     "output_type": "display_data"
    },
    {
     "data": {
      "text/html": [
       "<img src=\"imgs/sample1.jpg\" width=\"300\">"
      ],
      "text/plain": [
       "<IPython.core.display.HTML object>"
      ]
     },
     "metadata": {},
     "output_type": "display_data"
    }
   ],
   "source": [
    "if img.has_exif:\n",
    "    model = get_model(img)\n",
    "    created, modified = get_datetimes(img)\n",
    "    lat, long = get_lat_long(img)\n",
    "    m = report(model, created, modified, lat, long, img_path)\n",
    "    display(m)\n",
    "    display(HTML(f'<img src=\"{img_path}\" width=\"300\">'))"
   ]
  }
 ],
 "metadata": {
  "kernelspec": {
   "display_name": "venv",
   "language": "python",
   "name": "python3"
  },
  "language_info": {
   "codemirror_mode": {
    "name": "ipython",
    "version": 3
   },
   "file_extension": ".py",
   "mimetype": "text/x-python",
   "name": "python",
   "nbconvert_exporter": "python",
   "pygments_lexer": "ipython3",
   "version": "3.12.2"
  }
 },
 "nbformat": 4,
 "nbformat_minor": 2
}
